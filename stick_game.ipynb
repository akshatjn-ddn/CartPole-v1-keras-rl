{
 "metadata": {
  "language_info": {
   "codemirror_mode": {
    "name": "ipython",
    "version": 3
   },
   "file_extension": ".py",
   "mimetype": "text/x-python",
   "name": "python",
   "nbconvert_exporter": "python",
   "pygments_lexer": "ipython3",
   "version": "3.8.5-final"
  },
  "orig_nbformat": 2,
  "kernelspec": {
   "name": "python3",
   "display_name": "Python 3.8.5 64-bit ('base': conda)",
   "metadata": {
    "interpreter": {
     "hash": "76829ae11ceb3be505b9d762c66d5a8ab0d1af09c060f115e925199244756c15"
    }
   }
  }
 },
 "nbformat": 4,
 "nbformat_minor": 2,
 "cells": [
  {
   "source": [
    "## Dependencies"
   ],
   "cell_type": "markdown",
   "metadata": {}
  },
  {
   "cell_type": "code",
   "execution_count": 3,
   "metadata": {},
   "outputs": [],
   "source": [
    "import gym\n",
    "import random\n",
    "import matplotlib.pyplot as plt\n",
    "%matplotlib inline\n",
    "from IPython import display"
   ]
  },
  {
   "source": [
    "## Creating Open AI gym env"
   ],
   "cell_type": "markdown",
   "metadata": {}
  },
  {
   "cell_type": "code",
   "execution_count": 2,
   "metadata": {},
   "outputs": [],
   "source": [
    "env = gym.make('CartPole-v1')\n",
    "states = env.observation_space.shape[0]\n",
    "actions = env.action_space.n"
   ]
  },
  {
   "cell_type": "code",
   "execution_count": 3,
   "metadata": {},
   "outputs": [
    {
     "output_type": "execute_result",
     "data": {
      "text/plain": [
       "2"
      ]
     },
     "metadata": {},
     "execution_count": 3
    }
   ],
   "source": [
    "actions"
   ]
  },
  {
   "source": [
    "# Test env"
   ],
   "cell_type": "markdown",
   "metadata": {}
  },
  {
   "cell_type": "code",
   "execution_count": 7,
   "metadata": {},
   "outputs": [
    {
     "output_type": "stream",
     "name": "stdout",
     "text": [
      "Episode: 1 Score: 15.0\n",
      "Episode: 2 Score: 26.0\n",
      "Episode: 3 Score: 18.0\n",
      "Episode: 4 Score: 9.0\n",
      "Episode: 5 Score: 29.0\n",
      "Episode: 6 Score: 15.0\n",
      "Episode: 7 Score: 33.0\n",
      "Episode: 8 Score: 50.0\n",
      "Episode: 9 Score: 49.0\n",
      "Episode: 10 Score: 20.0\n",
      "Episode: 11 Score: 32.0\n",
      "Episode: 12 Score: 40.0\n",
      "Episode: 13 Score: 61.0\n",
      "Episode: 14 Score: 25.0\n",
      "Episode: 15 Score: 41.0\n",
      "Episode: 16 Score: 28.0\n",
      "Episode: 17 Score: 17.0\n",
      "Episode: 18 Score: 15.0\n",
      "Episode: 19 Score: 14.0\n",
      "Episode: 20 Score: 21.0\n"
     ]
    }
   ],
   "source": [
    "episodes = 20\n",
    "for episode in range(1, episodes+1):\n",
    "    state = env.reset()\n",
    "    done= False\n",
    "    score = 0\n",
    "\n",
    "    while not done:\n",
    "        env.render()\n",
    "        action = random.choice([0,1])\n",
    "        n_state, reward, done, info = env.step(action)\n",
    "        score += reward\n",
    "    print('Episode: {} Score: {}'.format(episode,score))\n",
    "    env.close()"
   ]
  },
  {
   "source": [
    "## Create deep learning model"
   ],
   "cell_type": "markdown",
   "metadata": {}
  },
  {
   "cell_type": "code",
   "execution_count": 4,
   "metadata": {},
   "outputs": [],
   "source": [
    "import numpy as np\n",
    "from tensorflow.keras.models import Sequential\n",
    "from tensorflow.keras.layers import Dense, Flatten\n",
    "from tensorflow.keras.optimizers import Adam"
   ]
  },
  {
   "cell_type": "code",
   "execution_count": 8,
   "metadata": {},
   "outputs": [],
   "source": [
    "def build_model(states, actions):\n",
    "    model = Sequential()\n",
    "    model.add(Flatten(input_shape=(1,states)))\n",
    "    model.add(Dense(24, activation='relu'))\n",
    "    model.add(Dense(24, activation='relu'))\n",
    "    model.add(Dense(actions, activation='linear'))\n",
    "    return model"
   ]
  },
  {
   "cell_type": "code",
   "execution_count": 27,
   "metadata": {},
   "outputs": [
    {
     "output_type": "stream",
     "name": "stdout",
     "text": [
      "Model: \"sequential_2\"\n_________________________________________________________________\nLayer (type)                 Output Shape              Param #   \n=================================================================\nflatten_2 (Flatten)          (None, 4)                 0         \n_________________________________________________________________\ndense_6 (Dense)              (None, 24)                120       \n_________________________________________________________________\ndense_7 (Dense)              (None, 24)                600       \n_________________________________________________________________\ndense_8 (Dense)              (None, 2)                 50        \n=================================================================\nTotal params: 770\nTrainable params: 770\nNon-trainable params: 0\n_________________________________________________________________\n"
     ]
    }
   ],
   "source": [
    "model = build_model(states, actions)\n",
    "model.summary()"
   ]
  },
  {
   "source": [
    "## build agents with keras-rl"
   ],
   "cell_type": "markdown",
   "metadata": {}
  },
  {
   "cell_type": "code",
   "execution_count": 5,
   "metadata": {},
   "outputs": [],
   "source": [
    "from rl.agents import DQNAgent\n",
    "from rl.policy import BoltzmannQPolicy\n",
    "from rl.memory import SequentialMemory"
   ]
  },
  {
   "cell_type": "code",
   "execution_count": 7,
   "metadata": {},
   "outputs": [],
   "source": [
    "def build_agent(model, actions):\n",
    "    policy = BoltzmannQPolicy()\n",
    "    memory = SequentialMemory(limit=50000, window_length=1)\n",
    "    dqn = DQNAgent(model=model, memory=memory, policy=policy, nb_actions=actions, nb_steps_warmup=10, target_model_update=1e-2)\n",
    "    return dqn"
   ]
  },
  {
   "cell_type": "code",
   "execution_count": 30,
   "metadata": {},
   "outputs": [
    {
     "output_type": "stream",
     "name": "stdout",
     "text": [
      "Training for 50000 steps ...\n",
      "Interval 1 (0 steps performed)\n",
      "10000/10000 [==============================] - 61s 6ms/step - reward: 1.0000\n",
      "95 episodes - episode_reward: 103.789 [10.000, 359.000] - loss: 2.022 - mae: 19.337 - mean_q: 39.160\n",
      "\n",
      "Interval 2 (10000 steps performed)\n",
      "10000/10000 [==============================] - 64s 6ms/step - reward: 1.0000\n",
      "48 episodes - episode_reward: 209.646 [157.000, 289.000] - loss: 3.443 - mae: 40.855 - mean_q: 82.529\n",
      "\n",
      "Interval 3 (20000 steps performed)\n",
      "10000/10000 [==============================] - 66s 7ms/step - reward: 1.0000\n",
      "44 episodes - episode_reward: 227.795 [169.000, 362.000] - loss: 2.875 - mae: 43.397 - mean_q: 87.361\n",
      "\n",
      "Interval 4 (30000 steps performed)\n",
      "10000/10000 [==============================] - 68s 7ms/step - reward: 1.0000\n",
      "43 episodes - episode_reward: 233.442 [152.000, 343.000] - loss: 1.801 - mae: 42.413 - mean_q: 85.308\n",
      "\n",
      "Interval 5 (40000 steps performed)\n",
      "10000/10000 [==============================] - 70s 7ms/step - reward: 1.0000\n",
      "done, took 329.192 seconds\n"
     ]
    },
    {
     "output_type": "execute_result",
     "data": {
      "text/plain": [
       "<tensorflow.python.keras.callbacks.History at 0x7f08940528e0>"
      ]
     },
     "metadata": {},
     "execution_count": 30
    }
   ],
   "source": [
    "dqn = build_agent(model, actions)\n",
    "dqn.compile(Adam(lr=1e-3), metrics=['mae'])\n",
    "dqn.fit(env, nb_steps=50000, visualize=False, verbose=1)"
   ]
  },
  {
   "cell_type": "code",
   "execution_count": 31,
   "metadata": {},
   "outputs": [
    {
     "output_type": "stream",
     "name": "stdout",
     "text": [
      "Testing for 100 episodes ...\n",
      "Episode 1: reward: 276.000, steps: 276\n",
      "Episode 2: reward: 278.000, steps: 278\n",
      "Episode 3: reward: 253.000, steps: 253\n",
      "Episode 4: reward: 292.000, steps: 292\n",
      "Episode 5: reward: 271.000, steps: 271\n",
      "Episode 6: reward: 208.000, steps: 208\n",
      "Episode 7: reward: 299.000, steps: 299\n",
      "Episode 8: reward: 183.000, steps: 183\n",
      "Episode 9: reward: 209.000, steps: 209\n",
      "Episode 10: reward: 256.000, steps: 256\n",
      "Episode 11: reward: 262.000, steps: 262\n",
      "Episode 12: reward: 246.000, steps: 246\n",
      "Episode 13: reward: 247.000, steps: 247\n",
      "Episode 14: reward: 265.000, steps: 265\n",
      "Episode 15: reward: 204.000, steps: 204\n",
      "Episode 16: reward: 253.000, steps: 253\n",
      "Episode 17: reward: 221.000, steps: 221\n",
      "Episode 18: reward: 233.000, steps: 233\n",
      "Episode 19: reward: 195.000, steps: 195\n",
      "Episode 20: reward: 182.000, steps: 182\n",
      "Episode 21: reward: 258.000, steps: 258\n",
      "Episode 22: reward: 359.000, steps: 359\n",
      "Episode 23: reward: 364.000, steps: 364\n",
      "Episode 24: reward: 210.000, steps: 210\n",
      "Episode 25: reward: 215.000, steps: 215\n",
      "Episode 26: reward: 226.000, steps: 226\n",
      "Episode 27: reward: 308.000, steps: 308\n",
      "Episode 28: reward: 236.000, steps: 236\n",
      "Episode 29: reward: 163.000, steps: 163\n",
      "Episode 30: reward: 202.000, steps: 202\n",
      "Episode 31: reward: 329.000, steps: 329\n",
      "Episode 32: reward: 286.000, steps: 286\n",
      "Episode 33: reward: 296.000, steps: 296\n",
      "Episode 34: reward: 382.000, steps: 382\n",
      "Episode 35: reward: 257.000, steps: 257\n",
      "Episode 36: reward: 210.000, steps: 210\n",
      "Episode 37: reward: 202.000, steps: 202\n",
      "Episode 38: reward: 221.000, steps: 221\n",
      "Episode 39: reward: 220.000, steps: 220\n",
      "Episode 40: reward: 195.000, steps: 195\n",
      "Episode 41: reward: 238.000, steps: 238\n",
      "Episode 42: reward: 224.000, steps: 224\n",
      "Episode 43: reward: 263.000, steps: 263\n",
      "Episode 44: reward: 215.000, steps: 215\n",
      "Episode 45: reward: 208.000, steps: 208\n",
      "Episode 46: reward: 288.000, steps: 288\n",
      "Episode 47: reward: 272.000, steps: 272\n",
      "Episode 48: reward: 216.000, steps: 216\n",
      "Episode 49: reward: 278.000, steps: 278\n",
      "Episode 50: reward: 339.000, steps: 339\n",
      "Episode 51: reward: 205.000, steps: 205\n",
      "Episode 52: reward: 219.000, steps: 219\n",
      "Episode 53: reward: 238.000, steps: 238\n",
      "Episode 54: reward: 303.000, steps: 303\n",
      "Episode 55: reward: 271.000, steps: 271\n",
      "Episode 56: reward: 238.000, steps: 238\n",
      "Episode 57: reward: 271.000, steps: 271\n",
      "Episode 58: reward: 200.000, steps: 200\n",
      "Episode 59: reward: 280.000, steps: 280\n",
      "Episode 60: reward: 189.000, steps: 189\n",
      "Episode 61: reward: 239.000, steps: 239\n",
      "Episode 62: reward: 229.000, steps: 229\n",
      "Episode 63: reward: 187.000, steps: 187\n",
      "Episode 64: reward: 340.000, steps: 340\n",
      "Episode 65: reward: 238.000, steps: 238\n",
      "Episode 66: reward: 242.000, steps: 242\n",
      "Episode 67: reward: 287.000, steps: 287\n",
      "Episode 68: reward: 230.000, steps: 230\n",
      "Episode 69: reward: 262.000, steps: 262\n",
      "Episode 70: reward: 206.000, steps: 206\n",
      "Episode 71: reward: 218.000, steps: 218\n",
      "Episode 72: reward: 279.000, steps: 279\n",
      "Episode 73: reward: 220.000, steps: 220\n",
      "Episode 74: reward: 325.000, steps: 325\n",
      "Episode 75: reward: 202.000, steps: 202\n",
      "Episode 76: reward: 242.000, steps: 242\n",
      "Episode 77: reward: 184.000, steps: 184\n",
      "Episode 78: reward: 222.000, steps: 222\n",
      "Episode 79: reward: 286.000, steps: 286\n",
      "Episode 80: reward: 314.000, steps: 314\n",
      "Episode 81: reward: 257.000, steps: 257\n",
      "Episode 82: reward: 280.000, steps: 280\n",
      "Episode 83: reward: 252.000, steps: 252\n",
      "Episode 84: reward: 276.000, steps: 276\n",
      "Episode 85: reward: 413.000, steps: 413\n",
      "Episode 86: reward: 248.000, steps: 248\n",
      "Episode 87: reward: 332.000, steps: 332\n",
      "Episode 88: reward: 233.000, steps: 233\n",
      "Episode 89: reward: 274.000, steps: 274\n",
      "Episode 90: reward: 246.000, steps: 246\n",
      "Episode 91: reward: 254.000, steps: 254\n",
      "Episode 92: reward: 194.000, steps: 194\n",
      "Episode 93: reward: 207.000, steps: 207\n",
      "Episode 94: reward: 271.000, steps: 271\n",
      "Episode 95: reward: 275.000, steps: 275\n",
      "Episode 96: reward: 215.000, steps: 215\n",
      "Episode 97: reward: 282.000, steps: 282\n",
      "Episode 98: reward: 205.000, steps: 205\n",
      "Episode 99: reward: 226.000, steps: 226\n",
      "Episode 100: reward: 217.000, steps: 217\n",
      "250.36\n"
     ]
    }
   ],
   "source": [
    "scores = dqn.test(env, nb_episodes=100, visualize=False)\n",
    "print(np.mean(scores.history['episode_reward']))"
   ]
  },
  {
   "cell_type": "code",
   "execution_count": 33,
   "metadata": {},
   "outputs": [
    {
     "output_type": "stream",
     "name": "stdout",
     "text": [
      "Testing for 50 episodes ...\n",
      "Episode 1: reward: 216.000, steps: 216\n",
      "Episode 2: reward: 244.000, steps: 244\n",
      "Episode 3: reward: 215.000, steps: 215\n",
      "Episode 4: reward: 166.000, steps: 166\n",
      "Episode 5: reward: 244.000, steps: 244\n",
      "Episode 6: reward: 234.000, steps: 234\n",
      "Episode 7: reward: 343.000, steps: 343\n",
      "Episode 8: reward: 210.000, steps: 210\n",
      "Episode 9: reward: 269.000, steps: 269\n",
      "Episode 10: reward: 230.000, steps: 230\n",
      "Episode 11: reward: 324.000, steps: 324\n",
      "Episode 12: reward: 309.000, steps: 309\n",
      "Episode 13: reward: 264.000, steps: 264\n",
      "Episode 14: reward: 205.000, steps: 205\n",
      "Episode 15: reward: 324.000, steps: 324\n",
      "Episode 16: reward: 218.000, steps: 218\n",
      "Episode 17: reward: 221.000, steps: 221\n",
      "Episode 18: reward: 184.000, steps: 184\n",
      "Episode 19: reward: 295.000, steps: 295\n",
      "Episode 20: reward: 245.000, steps: 245\n",
      "Episode 21: reward: 328.000, steps: 328\n",
      "Episode 22: reward: 210.000, steps: 210\n",
      "Episode 23: reward: 330.000, steps: 330\n",
      "Episode 24: reward: 222.000, steps: 222\n",
      "Episode 25: reward: 399.000, steps: 399\n",
      "Episode 26: reward: 342.000, steps: 342\n",
      "Episode 27: reward: 431.000, steps: 431\n",
      "Episode 28: reward: 205.000, steps: 205\n",
      "Episode 29: reward: 196.000, steps: 196\n",
      "Episode 30: reward: 205.000, steps: 205\n",
      "Episode 31: reward: 228.000, steps: 228\n",
      "Episode 32: reward: 216.000, steps: 216\n",
      "Episode 33: reward: 281.000, steps: 281\n",
      "Episode 34: reward: 244.000, steps: 244\n",
      "Episode 35: reward: 184.000, steps: 184\n",
      "Episode 36: reward: 500.000, steps: 500\n",
      "Episode 37: reward: 343.000, steps: 343\n",
      "Episode 38: reward: 255.000, steps: 255\n",
      "Episode 39: reward: 197.000, steps: 197\n",
      "Episode 40: reward: 230.000, steps: 230\n",
      "Episode 41: reward: 212.000, steps: 212\n",
      "Episode 42: reward: 282.000, steps: 282\n",
      "Episode 43: reward: 261.000, steps: 261\n",
      "Episode 44: reward: 238.000, steps: 238\n",
      "Episode 45: reward: 224.000, steps: 224\n",
      "Episode 46: reward: 175.000, steps: 175\n",
      "Episode 47: reward: 500.000, steps: 500\n",
      "Episode 48: reward: 181.000, steps: 181\n",
      "Episode 49: reward: 211.000, steps: 211\n",
      "Episode 50: reward: 279.000, steps: 279\n"
     ]
    }
   ],
   "source": [
    "\n",
    "_ = dqn.test(env, nb_episodes=50, visualize=True)"
   ]
  },
  {
   "source": [
    "## reloading model from memory"
   ],
   "cell_type": "markdown",
   "metadata": {}
  },
  {
   "cell_type": "code",
   "execution_count": 34,
   "metadata": {},
   "outputs": [],
   "source": [
    "dqn.save_weights('dqn_weights.h5f', overwrite=True)"
   ]
  },
  {
   "cell_type": "code",
   "execution_count": 1,
   "metadata": {},
   "outputs": [
    {
     "output_type": "error",
     "ename": "NameError",
     "evalue": "name 'model' is not defined",
     "traceback": [
      "\u001b[0;31m---------------------------------------------------------------------------\u001b[0m",
      "\u001b[0;31mNameError\u001b[0m                                 Traceback (most recent call last)",
      "\u001b[0;32m<ipython-input-1-85bb919787df>\u001b[0m in \u001b[0;36m<module>\u001b[0;34m\u001b[0m\n\u001b[0;32m----> 1\u001b[0;31m \u001b[0;32mdel\u001b[0m \u001b[0mmodel\u001b[0m\u001b[0;34m\u001b[0m\u001b[0;34m\u001b[0m\u001b[0m\n\u001b[0m\u001b[1;32m      2\u001b[0m \u001b[0;32mdel\u001b[0m \u001b[0mdqn\u001b[0m\u001b[0;34m\u001b[0m\u001b[0;34m\u001b[0m\u001b[0m\n\u001b[1;32m      3\u001b[0m \u001b[0;32mdel\u001b[0m \u001b[0menv\u001b[0m\u001b[0;34m\u001b[0m\u001b[0;34m\u001b[0m\u001b[0m\n",
      "\u001b[0;31mNameError\u001b[0m: name 'model' is not defined"
     ]
    }
   ],
   "source": [
    "del model\n",
    "del dqn\n",
    "del env"
   ]
  },
  {
   "cell_type": "code",
   "execution_count": 9,
   "metadata": {},
   "outputs": [],
   "source": [
    "env = gym.make('CartPole-v0')\n",
    "actions = env.action_space.n\n",
    "states = env.observation_space.shape[0]\n",
    "model = build_model(states, actions)\n",
    "dqn = build_agent(model, actions)\n",
    "dqn.compile(Adam(lr=1e-3), metrics=['mae'])"
   ]
  },
  {
   "cell_type": "code",
   "execution_count": 10,
   "metadata": {},
   "outputs": [],
   "source": [
    "dqn.load_weights('dqn_weights.h5f')"
   ]
  },
  {
   "cell_type": "code",
   "execution_count": 11,
   "metadata": {},
   "outputs": [
    {
     "output_type": "stream",
     "name": "stdout",
     "text": [
      "Testing for 5 episodes ...\n",
      "Episode 1: reward: 200.000, steps: 200\n",
      "Episode 2: reward: 180.000, steps: 180\n",
      "Episode 3: reward: 178.000, steps: 178\n",
      "Episode 4: reward: 200.000, steps: 200\n",
      "Episode 5: reward: 200.000, steps: 200\n"
     ]
    }
   ],
   "source": [
    "_ = dqn.test(env, nb_episodes=5, visualize=True)"
   ]
  },
  {
   "cell_type": "code",
   "execution_count": null,
   "metadata": {},
   "outputs": [],
   "source": []
  }
 ]
}